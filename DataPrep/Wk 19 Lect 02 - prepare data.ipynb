{
 "cells": [
  {
   "cell_type": "markdown",
   "id": "b6b37d5f",
   "metadata": {},
   "source": [
    "# Wk 19 Lect 02 - Prepare data"
   ]
  },
  {
   "cell_type": "markdown",
   "id": "09074a8e",
   "metadata": {},
   "source": [
    "- "
   ]
  },
  {
   "cell_type": "code",
   "execution_count": 1,
   "id": "922f0bae",
   "metadata": {},
   "outputs": [],
   "source": [
    "OUTPUT_FOLDER = \"Data/Wk19Lect02/\""
   ]
  },
  {
   "cell_type": "code",
   "execution_count": 2,
   "id": "44158a6e",
   "metadata": {},
   "outputs": [
    {
     "data": {
      "text/plain": [
       "['student-mat', 'student-por', 'DATA DICTIONARY', 'README']"
      ]
     },
     "execution_count": 2,
     "metadata": {},
     "output_type": "execute_result"
    }
   ],
   "source": [
    "import pandas as pd\n",
    "fname = \"Data/student-performance-combined.xlsx\"\n",
    "with  pd.ExcelFile(fname) as f:\n",
    "    sheet_names = f.sheet_names\n",
    "    \n",
    "sheet_names"
   ]
  },
  {
   "cell_type": "code",
   "execution_count": 3,
   "id": "869781fb",
   "metadata": {},
   "outputs": [
    {
     "name": "stdout",
     "output_type": "stream",
     "text": [
      "[i] Saving .csv's to Data/Wk19Lect02/\n"
     ]
    }
   ],
   "source": [
    "## set save location \n",
    "import os\n",
    "os.makedirs(OUTPUT_FOLDER, exist_ok=True)\n",
    "print(f\"[i] Saving .csv's to {OUTPUT_FOLDER}\")"
   ]
  },
  {
   "cell_type": "code",
   "execution_count": 4,
   "id": "fb81e7b1",
   "metadata": {},
   "outputs": [
    {
     "data": {
      "text/html": [
       "<div>\n",
       "<style scoped>\n",
       "    .dataframe tbody tr th:only-of-type {\n",
       "        vertical-align: middle;\n",
       "    }\n",
       "\n",
       "    .dataframe tbody tr th {\n",
       "        vertical-align: top;\n",
       "    }\n",
       "\n",
       "    .dataframe thead th {\n",
       "        text-align: right;\n",
       "    }\n",
       "</style>\n",
       "<table border=\"1\" class=\"dataframe\">\n",
       "  <thead>\n",
       "    <tr style=\"text-align: right;\">\n",
       "      <th></th>\n",
       "      <th>school</th>\n",
       "      <th>sex</th>\n",
       "      <th>age</th>\n",
       "      <th>address</th>\n",
       "      <th>famsize</th>\n",
       "      <th>Pstatus</th>\n",
       "      <th>Medu</th>\n",
       "      <th>Fedu</th>\n",
       "      <th>Mjob</th>\n",
       "      <th>Fjob</th>\n",
       "      <th>...</th>\n",
       "      <th>famrel</th>\n",
       "      <th>freetime</th>\n",
       "      <th>goout</th>\n",
       "      <th>Dalc</th>\n",
       "      <th>Walc</th>\n",
       "      <th>health</th>\n",
       "      <th>absences</th>\n",
       "      <th>G1</th>\n",
       "      <th>G2</th>\n",
       "      <th>G3</th>\n",
       "    </tr>\n",
       "  </thead>\n",
       "  <tbody>\n",
       "    <tr>\n",
       "      <th>0</th>\n",
       "      <td>GP</td>\n",
       "      <td>F</td>\n",
       "      <td>18</td>\n",
       "      <td>U</td>\n",
       "      <td>GT3</td>\n",
       "      <td>A</td>\n",
       "      <td>4</td>\n",
       "      <td>4</td>\n",
       "      <td>at_home</td>\n",
       "      <td>teacher</td>\n",
       "      <td>...</td>\n",
       "      <td>4</td>\n",
       "      <td>3</td>\n",
       "      <td>4</td>\n",
       "      <td>1</td>\n",
       "      <td>1</td>\n",
       "      <td>3</td>\n",
       "      <td>6</td>\n",
       "      <td>5</td>\n",
       "      <td>6</td>\n",
       "      <td>6</td>\n",
       "    </tr>\n",
       "    <tr>\n",
       "      <th>1</th>\n",
       "      <td>GP</td>\n",
       "      <td>F</td>\n",
       "      <td>17</td>\n",
       "      <td>U</td>\n",
       "      <td>GT3</td>\n",
       "      <td>T</td>\n",
       "      <td>1</td>\n",
       "      <td>1</td>\n",
       "      <td>at_home</td>\n",
       "      <td>other</td>\n",
       "      <td>...</td>\n",
       "      <td>5</td>\n",
       "      <td>3</td>\n",
       "      <td>3</td>\n",
       "      <td>1</td>\n",
       "      <td>1</td>\n",
       "      <td>3</td>\n",
       "      <td>4</td>\n",
       "      <td>5</td>\n",
       "      <td>5</td>\n",
       "      <td>6</td>\n",
       "    </tr>\n",
       "    <tr>\n",
       "      <th>2</th>\n",
       "      <td>GP</td>\n",
       "      <td>F</td>\n",
       "      <td>15</td>\n",
       "      <td>U</td>\n",
       "      <td>LE3</td>\n",
       "      <td>T</td>\n",
       "      <td>1</td>\n",
       "      <td>1</td>\n",
       "      <td>at_home</td>\n",
       "      <td>other</td>\n",
       "      <td>...</td>\n",
       "      <td>4</td>\n",
       "      <td>3</td>\n",
       "      <td>2</td>\n",
       "      <td>2</td>\n",
       "      <td>3</td>\n",
       "      <td>3</td>\n",
       "      <td>10</td>\n",
       "      <td>7</td>\n",
       "      <td>8</td>\n",
       "      <td>10</td>\n",
       "    </tr>\n",
       "    <tr>\n",
       "      <th>3</th>\n",
       "      <td>GP</td>\n",
       "      <td>F</td>\n",
       "      <td>15</td>\n",
       "      <td>U</td>\n",
       "      <td>GT3</td>\n",
       "      <td>T</td>\n",
       "      <td>4</td>\n",
       "      <td>2</td>\n",
       "      <td>health</td>\n",
       "      <td>services</td>\n",
       "      <td>...</td>\n",
       "      <td>3</td>\n",
       "      <td>2</td>\n",
       "      <td>2</td>\n",
       "      <td>1</td>\n",
       "      <td>1</td>\n",
       "      <td>5</td>\n",
       "      <td>2</td>\n",
       "      <td>15</td>\n",
       "      <td>14</td>\n",
       "      <td>15</td>\n",
       "    </tr>\n",
       "    <tr>\n",
       "      <th>4</th>\n",
       "      <td>GP</td>\n",
       "      <td>F</td>\n",
       "      <td>16</td>\n",
       "      <td>U</td>\n",
       "      <td>GT3</td>\n",
       "      <td>T</td>\n",
       "      <td>3</td>\n",
       "      <td>3</td>\n",
       "      <td>other</td>\n",
       "      <td>other</td>\n",
       "      <td>...</td>\n",
       "      <td>4</td>\n",
       "      <td>3</td>\n",
       "      <td>2</td>\n",
       "      <td>1</td>\n",
       "      <td>2</td>\n",
       "      <td>5</td>\n",
       "      <td>4</td>\n",
       "      <td>6</td>\n",
       "      <td>10</td>\n",
       "      <td>10</td>\n",
       "    </tr>\n",
       "    <tr>\n",
       "      <th>...</th>\n",
       "      <td>...</td>\n",
       "      <td>...</td>\n",
       "      <td>...</td>\n",
       "      <td>...</td>\n",
       "      <td>...</td>\n",
       "      <td>...</td>\n",
       "      <td>...</td>\n",
       "      <td>...</td>\n",
       "      <td>...</td>\n",
       "      <td>...</td>\n",
       "      <td>...</td>\n",
       "      <td>...</td>\n",
       "      <td>...</td>\n",
       "      <td>...</td>\n",
       "      <td>...</td>\n",
       "      <td>...</td>\n",
       "      <td>...</td>\n",
       "      <td>...</td>\n",
       "      <td>...</td>\n",
       "      <td>...</td>\n",
       "      <td>...</td>\n",
       "    </tr>\n",
       "    <tr>\n",
       "      <th>390</th>\n",
       "      <td>MS</td>\n",
       "      <td>M</td>\n",
       "      <td>20</td>\n",
       "      <td>U</td>\n",
       "      <td>LE3</td>\n",
       "      <td>A</td>\n",
       "      <td>2</td>\n",
       "      <td>2</td>\n",
       "      <td>services</td>\n",
       "      <td>services</td>\n",
       "      <td>...</td>\n",
       "      <td>5</td>\n",
       "      <td>5</td>\n",
       "      <td>4</td>\n",
       "      <td>4</td>\n",
       "      <td>5</td>\n",
       "      <td>4</td>\n",
       "      <td>11</td>\n",
       "      <td>9</td>\n",
       "      <td>9</td>\n",
       "      <td>9</td>\n",
       "    </tr>\n",
       "    <tr>\n",
       "      <th>391</th>\n",
       "      <td>MS</td>\n",
       "      <td>M</td>\n",
       "      <td>17</td>\n",
       "      <td>U</td>\n",
       "      <td>LE3</td>\n",
       "      <td>T</td>\n",
       "      <td>3</td>\n",
       "      <td>1</td>\n",
       "      <td>services</td>\n",
       "      <td>services</td>\n",
       "      <td>...</td>\n",
       "      <td>2</td>\n",
       "      <td>4</td>\n",
       "      <td>5</td>\n",
       "      <td>3</td>\n",
       "      <td>4</td>\n",
       "      <td>2</td>\n",
       "      <td>3</td>\n",
       "      <td>14</td>\n",
       "      <td>16</td>\n",
       "      <td>16</td>\n",
       "    </tr>\n",
       "    <tr>\n",
       "      <th>392</th>\n",
       "      <td>MS</td>\n",
       "      <td>M</td>\n",
       "      <td>21</td>\n",
       "      <td>R</td>\n",
       "      <td>GT3</td>\n",
       "      <td>T</td>\n",
       "      <td>1</td>\n",
       "      <td>1</td>\n",
       "      <td>other</td>\n",
       "      <td>other</td>\n",
       "      <td>...</td>\n",
       "      <td>5</td>\n",
       "      <td>5</td>\n",
       "      <td>3</td>\n",
       "      <td>3</td>\n",
       "      <td>3</td>\n",
       "      <td>3</td>\n",
       "      <td>3</td>\n",
       "      <td>10</td>\n",
       "      <td>8</td>\n",
       "      <td>7</td>\n",
       "    </tr>\n",
       "    <tr>\n",
       "      <th>393</th>\n",
       "      <td>MS</td>\n",
       "      <td>M</td>\n",
       "      <td>18</td>\n",
       "      <td>R</td>\n",
       "      <td>LE3</td>\n",
       "      <td>T</td>\n",
       "      <td>3</td>\n",
       "      <td>2</td>\n",
       "      <td>services</td>\n",
       "      <td>other</td>\n",
       "      <td>...</td>\n",
       "      <td>4</td>\n",
       "      <td>4</td>\n",
       "      <td>1</td>\n",
       "      <td>3</td>\n",
       "      <td>4</td>\n",
       "      <td>5</td>\n",
       "      <td>0</td>\n",
       "      <td>11</td>\n",
       "      <td>12</td>\n",
       "      <td>10</td>\n",
       "    </tr>\n",
       "    <tr>\n",
       "      <th>394</th>\n",
       "      <td>MS</td>\n",
       "      <td>M</td>\n",
       "      <td>19</td>\n",
       "      <td>U</td>\n",
       "      <td>LE3</td>\n",
       "      <td>T</td>\n",
       "      <td>1</td>\n",
       "      <td>1</td>\n",
       "      <td>other</td>\n",
       "      <td>at_home</td>\n",
       "      <td>...</td>\n",
       "      <td>3</td>\n",
       "      <td>2</td>\n",
       "      <td>3</td>\n",
       "      <td>3</td>\n",
       "      <td>3</td>\n",
       "      <td>5</td>\n",
       "      <td>5</td>\n",
       "      <td>8</td>\n",
       "      <td>9</td>\n",
       "      <td>9</td>\n",
       "    </tr>\n",
       "  </tbody>\n",
       "</table>\n",
       "<p>395 rows × 33 columns</p>\n",
       "</div>"
      ],
      "text/plain": [
       "    school sex  age address famsize Pstatus  Medu  Fedu      Mjob      Fjob  \\\n",
       "0       GP   F   18       U     GT3       A     4     4   at_home   teacher   \n",
       "1       GP   F   17       U     GT3       T     1     1   at_home     other   \n",
       "2       GP   F   15       U     LE3       T     1     1   at_home     other   \n",
       "3       GP   F   15       U     GT3       T     4     2    health  services   \n",
       "4       GP   F   16       U     GT3       T     3     3     other     other   \n",
       "..     ...  ..  ...     ...     ...     ...   ...   ...       ...       ...   \n",
       "390     MS   M   20       U     LE3       A     2     2  services  services   \n",
       "391     MS   M   17       U     LE3       T     3     1  services  services   \n",
       "392     MS   M   21       R     GT3       T     1     1     other     other   \n",
       "393     MS   M   18       R     LE3       T     3     2  services     other   \n",
       "394     MS   M   19       U     LE3       T     1     1     other   at_home   \n",
       "\n",
       "     ... famrel freetime  goout  Dalc  Walc health absences  G1  G2  G3  \n",
       "0    ...      4        3      4     1     1      3        6   5   6   6  \n",
       "1    ...      5        3      3     1     1      3        4   5   5   6  \n",
       "2    ...      4        3      2     2     3      3       10   7   8  10  \n",
       "3    ...      3        2      2     1     1      5        2  15  14  15  \n",
       "4    ...      4        3      2     1     2      5        4   6  10  10  \n",
       "..   ...    ...      ...    ...   ...   ...    ...      ...  ..  ..  ..  \n",
       "390  ...      5        5      4     4     5      4       11   9   9   9  \n",
       "391  ...      2        4      5     3     4      2        3  14  16  16  \n",
       "392  ...      5        5      3     3     3      3        3  10   8   7  \n",
       "393  ...      4        4      1     3     4      5        0  11  12  10  \n",
       "394  ...      3        2      3     3     3      5        5   8   9   9  \n",
       "\n",
       "[395 rows x 33 columns]"
      ]
     },
     "execution_count": 4,
     "metadata": {},
     "output_type": "execute_result"
    }
   ],
   "source": [
    "sheet = 'student-mat'\n",
    "df = pd.read_excel(fname, sheet_name=sheet)\n",
    "df"
   ]
  },
  {
   "cell_type": "code",
   "execution_count": 5,
   "id": "fe7f9ed7",
   "metadata": {},
   "outputs": [
    {
     "data": {
      "text/plain": [
       "array([18, 17, 15, 16, 19, 22, 20, 21])"
      ]
     },
     "execution_count": 5,
     "metadata": {},
     "output_type": "execute_result"
    }
   ],
   "source": [
    "ages = df['age'].unique()\n",
    "ages"
   ]
  },
  {
   "cell_type": "markdown",
   "id": "28f84790",
   "metadata": {},
   "source": [
    "## Add the sheet name as a column and combine\n"
   ]
  },
  {
   "cell_type": "code",
   "execution_count": 11,
   "id": "8ea9d03f",
   "metadata": {},
   "outputs": [],
   "source": [
    "sheet_folders = {'student-mat':'.', 'student-por':'Portugese'}"
   ]
  },
  {
   "cell_type": "code",
   "execution_count": 12,
   "id": "4ae19673",
   "metadata": {},
   "outputs": [
    {
     "data": {
      "text/plain": [
       "'Data/Wk19Lect02/Portugese/'"
      ]
     },
     "execution_count": 12,
     "metadata": {},
     "output_type": "execute_result"
    }
   ],
   "source": [
    "folder_out = os.path.join(OUTPUT_FOLDER, subfolder)\n",
    "folder_out"
   ]
  },
  {
   "cell_type": "code",
   "execution_count": 14,
   "id": "794afb12",
   "metadata": {},
   "outputs": [
    {
     "name": "stdout",
     "output_type": "stream",
     "text": [
      "- Succesfully saved Data/Wk19Lect02/./Student_Performance-mat_age-18.csv\n",
      "- Succesfully saved Data/Wk19Lect02/./Student_Performance-mat_age-17.csv\n",
      "- Succesfully saved Data/Wk19Lect02/./Student_Performance-mat_age-15.csv\n",
      "- Succesfully saved Data/Wk19Lect02/./Student_Performance-mat_age-16.csv\n",
      "- Succesfully saved Data/Wk19Lect02/./Student_Performance-mat_age-19.csv\n",
      "- Succesfully saved Data/Wk19Lect02/./Student_Performance-mat_age-22.csv\n",
      "- Succesfully saved Data/Wk19Lect02/./Student_Performance-mat_age-20.csv\n",
      "- Succesfully saved Data/Wk19Lect02/./Student_Performance-mat_age-21.csv\n",
      "- Succesfully saved Data/Wk19Lect02/Portugese/Student_Performance-por_age-18.csv\n",
      "- Succesfully saved Data/Wk19Lect02/Portugese/Student_Performance-por_age-17.csv\n",
      "- Succesfully saved Data/Wk19Lect02/Portugese/Student_Performance-por_age-15.csv\n",
      "- Succesfully saved Data/Wk19Lect02/Portugese/Student_Performance-por_age-16.csv\n",
      "- Succesfully saved Data/Wk19Lect02/Portugese/Student_Performance-por_age-19.csv\n",
      "- Succesfully saved Data/Wk19Lect02/Portugese/Student_Performance-por_age-22.csv\n",
      "- Succesfully saved Data/Wk19Lect02/Portugese/Student_Performance-por_age-20.csv\n",
      "- Succesfully saved Data/Wk19Lect02/Portugese/Student_Performance-por_age-21.csv\n"
     ]
    }
   ],
   "source": [
    "for sheet, subfolder in sheet_folders.items():\n",
    "\n",
    "    \n",
    "    sheet_df = pd.read_excel(fname, sheet_name=sheet)\n",
    "    \n",
    "    grade_name = sheet.split('-')[-1]\n",
    "    sheet_df['subject'] = grade_name\n",
    "    \n",
    "    \n",
    "    ages = sheet_df['age'].unique()\n",
    "\n",
    "    ## loop through years\n",
    "    for age in ages:\n",
    "\n",
    "        ## save temp slices of dfs to save.\n",
    "        temp_df = sheet_df.loc[ sheet_df['age'] == age]\n",
    "    #     temp_df = temp_df.reset_index(drop=False)\n",
    "    #     temp_df = temp_df.drop(columns=FINAL_DROP)\n",
    "\n",
    "        # save as csv to output folder\n",
    "        folder_out = os.path.join(OUTPUT_FOLDER, subfolder)\n",
    "        os.makedirs(folder_out, exist_ok=True)\n",
    "        \n",
    "        fname_temp = f\"{folder_out}/Student_Performance-{grade_name}_age-{age}.csv\"#.gz\n",
    "        temp_df.to_csv(fname_temp,index=False)\n",
    "\n",
    "        print(f\"- Succesfully saved {fname_temp}\")"
   ]
  },
  {
   "cell_type": "code",
   "execution_count": 15,
   "id": "8049121a",
   "metadata": {},
   "outputs": [
    {
     "data": {
      "text/plain": [
       "['Data/Wk19Lect02/Portugese/Student_Performance-por_age-15.csv',\n",
       " 'Data/Wk19Lect02/Portugese/Student_Performance-por_age-16.csv',\n",
       " 'Data/Wk19Lect02/Portugese/Student_Performance-por_age-17.csv',\n",
       " 'Data/Wk19Lect02/Portugese/Student_Performance-por_age-18.csv',\n",
       " 'Data/Wk19Lect02/Portugese/Student_Performance-por_age-19.csv',\n",
       " 'Data/Wk19Lect02/Portugese/Student_Performance-por_age-20.csv',\n",
       " 'Data/Wk19Lect02/Portugese/Student_Performance-por_age-21.csv',\n",
       " 'Data/Wk19Lect02/Portugese/Student_Performance-por_age-22.csv',\n",
       " 'Data/Wk19Lect02/Student_Performance-mat_age-15.csv',\n",
       " 'Data/Wk19Lect02/Student_Performance-mat_age-16.csv',\n",
       " 'Data/Wk19Lect02/Student_Performance-mat_age-17.csv',\n",
       " 'Data/Wk19Lect02/Student_Performance-mat_age-18.csv',\n",
       " 'Data/Wk19Lect02/Student_Performance-mat_age-19.csv',\n",
       " 'Data/Wk19Lect02/Student_Performance-mat_age-20.csv',\n",
       " 'Data/Wk19Lect02/Student_Performance-mat_age-21.csv',\n",
       " 'Data/Wk19Lect02/Student_Performance-mat_age-22.csv']"
      ]
     },
     "execution_count": 15,
     "metadata": {},
     "output_type": "execute_result"
    }
   ],
   "source": [
    "import glob\n",
    "exported_files = sorted(glob.glob(OUTPUT_FOLDER+\"**/*.csv\", recursive=True))\n",
    "exported_files"
   ]
  },
  {
   "cell_type": "code",
   "execution_count": 16,
   "id": "292ff0b0",
   "metadata": {},
   "outputs": [
    {
     "data": {
      "text/html": [
       "<div>\n",
       "<style scoped>\n",
       "    .dataframe tbody tr th:only-of-type {\n",
       "        vertical-align: middle;\n",
       "    }\n",
       "\n",
       "    .dataframe tbody tr th {\n",
       "        vertical-align: top;\n",
       "    }\n",
       "\n",
       "    .dataframe thead th {\n",
       "        text-align: right;\n",
       "    }\n",
       "</style>\n",
       "<table border=\"1\" class=\"dataframe\">\n",
       "  <thead>\n",
       "    <tr style=\"text-align: right;\">\n",
       "      <th></th>\n",
       "      <th>school</th>\n",
       "      <th>sex</th>\n",
       "      <th>age</th>\n",
       "      <th>address</th>\n",
       "      <th>famsize</th>\n",
       "      <th>Pstatus</th>\n",
       "      <th>Medu</th>\n",
       "      <th>Fedu</th>\n",
       "      <th>Mjob</th>\n",
       "      <th>Fjob</th>\n",
       "      <th>...</th>\n",
       "      <th>freetime</th>\n",
       "      <th>goout</th>\n",
       "      <th>Dalc</th>\n",
       "      <th>Walc</th>\n",
       "      <th>health</th>\n",
       "      <th>absences</th>\n",
       "      <th>G1</th>\n",
       "      <th>G2</th>\n",
       "      <th>G3</th>\n",
       "      <th>subject</th>\n",
       "    </tr>\n",
       "  </thead>\n",
       "  <tbody>\n",
       "    <tr>\n",
       "      <th>0</th>\n",
       "      <td>GP</td>\n",
       "      <td>M</td>\n",
       "      <td>22</td>\n",
       "      <td>U</td>\n",
       "      <td>GT3</td>\n",
       "      <td>T</td>\n",
       "      <td>3</td>\n",
       "      <td>1</td>\n",
       "      <td>services</td>\n",
       "      <td>services</td>\n",
       "      <td>...</td>\n",
       "      <td>4</td>\n",
       "      <td>5</td>\n",
       "      <td>5</td>\n",
       "      <td>5</td>\n",
       "      <td>1</td>\n",
       "      <td>16</td>\n",
       "      <td>6</td>\n",
       "      <td>8</td>\n",
       "      <td>8</td>\n",
       "      <td>mat</td>\n",
       "    </tr>\n",
       "  </tbody>\n",
       "</table>\n",
       "<p>1 rows × 34 columns</p>\n",
       "</div>"
      ],
      "text/plain": [
       "  school sex  age address famsize Pstatus  Medu  Fedu      Mjob      Fjob  \\\n",
       "0     GP   M   22       U     GT3       T     3     1  services  services   \n",
       "\n",
       "   ... freetime goout  Dalc  Walc  health absences G1 G2 G3 subject  \n",
       "0  ...        4     5     5     5       1       16  6  8  8     mat  \n",
       "\n",
       "[1 rows x 34 columns]"
      ]
     },
     "execution_count": 16,
     "metadata": {},
     "output_type": "execute_result"
    }
   ],
   "source": [
    "pd.read_csv(exported_files[-1])"
   ]
  },
  {
   "cell_type": "code",
   "execution_count": 17,
   "id": "773286a4",
   "metadata": {},
   "outputs": [
    {
     "data": {
      "text/html": [
       "<div>\n",
       "<style scoped>\n",
       "    .dataframe tbody tr th:only-of-type {\n",
       "        vertical-align: middle;\n",
       "    }\n",
       "\n",
       "    .dataframe tbody tr th {\n",
       "        vertical-align: top;\n",
       "    }\n",
       "\n",
       "    .dataframe thead th {\n",
       "        text-align: right;\n",
       "    }\n",
       "</style>\n",
       "<table border=\"1\" class=\"dataframe\">\n",
       "  <thead>\n",
       "    <tr style=\"text-align: right;\">\n",
       "      <th></th>\n",
       "      <th>school</th>\n",
       "      <th>sex</th>\n",
       "      <th>age</th>\n",
       "      <th>address</th>\n",
       "      <th>famsize</th>\n",
       "      <th>Pstatus</th>\n",
       "      <th>Medu</th>\n",
       "      <th>Fedu</th>\n",
       "      <th>Mjob</th>\n",
       "      <th>Fjob</th>\n",
       "      <th>...</th>\n",
       "      <th>freetime</th>\n",
       "      <th>goout</th>\n",
       "      <th>Dalc</th>\n",
       "      <th>Walc</th>\n",
       "      <th>health</th>\n",
       "      <th>absences</th>\n",
       "      <th>G1</th>\n",
       "      <th>G2</th>\n",
       "      <th>G3</th>\n",
       "      <th>subject</th>\n",
       "    </tr>\n",
       "  </thead>\n",
       "  <tbody>\n",
       "    <tr>\n",
       "      <th>0</th>\n",
       "      <td>MS</td>\n",
       "      <td>M</td>\n",
       "      <td>21</td>\n",
       "      <td>R</td>\n",
       "      <td>GT3</td>\n",
       "      <td>T</td>\n",
       "      <td>1</td>\n",
       "      <td>1</td>\n",
       "      <td>other</td>\n",
       "      <td>other</td>\n",
       "      <td>...</td>\n",
       "      <td>5</td>\n",
       "      <td>3</td>\n",
       "      <td>3</td>\n",
       "      <td>3</td>\n",
       "      <td>3</td>\n",
       "      <td>3</td>\n",
       "      <td>10</td>\n",
       "      <td>8</td>\n",
       "      <td>7</td>\n",
       "      <td>mat</td>\n",
       "    </tr>\n",
       "  </tbody>\n",
       "</table>\n",
       "<p>1 rows × 34 columns</p>\n",
       "</div>"
      ],
      "text/plain": [
       "  school sex  age address famsize Pstatus  Medu  Fedu   Mjob   Fjob  ...  \\\n",
       "0     MS   M   21       R     GT3       T     1     1  other  other  ...   \n",
       "\n",
       "  freetime goout  Dalc  Walc  health absences  G1 G2 G3 subject  \n",
       "0        5     3     3     3       3        3  10  8  7     mat  \n",
       "\n",
       "[1 rows x 34 columns]"
      ]
     },
     "execution_count": 17,
     "metadata": {},
     "output_type": "execute_result"
    }
   ],
   "source": [
    "pd.read_csv(exported_files[-2])"
   ]
  },
  {
   "cell_type": "code",
   "execution_count": 18,
   "id": "9a847a2e",
   "metadata": {},
   "outputs": [
    {
     "data": {
      "text/plain": [
       "PosixPath('Data/Wk19Lect02')"
      ]
     },
     "execution_count": 18,
     "metadata": {},
     "output_type": "execute_result"
    }
   ],
   "source": [
    "## SETTING FOLDER TO SAVE ZIPPED OUTPUT_FOLDER \n",
    "from pathlib import Path\n",
    "\n",
    "fpath = Path(OUTPUT_FOLDER)\n",
    "fpath"
   ]
  },
  {
   "cell_type": "code",
   "execution_count": 19,
   "id": "56a32f10",
   "metadata": {},
   "outputs": [
    {
     "data": {
      "text/plain": [
       "PosixPath('Data/Student-Performance-by-subject-age.zip')"
      ]
     },
     "execution_count": 19,
     "metadata": {},
     "output_type": "execute_result"
    }
   ],
   "source": [
    "ZIP_FOLDER = fpath.parent\n",
    "ZIP_FOLDER.mkdir(exist_ok=True)\n",
    "ZIP_FILE = ZIP_FOLDER/\"Student-Performance-by-subject-age.zip\"\n",
    "ZIP_FILE"
   ]
  },
  {
   "cell_type": "code",
   "execution_count": 22,
   "id": "9c325dc8",
   "metadata": {},
   "outputs": [
    {
     "data": {
      "text/plain": [
       "PosixPath('Data/Student-Performance-by-subject-age.zip')"
      ]
     },
     "execution_count": 22,
     "metadata": {},
     "output_type": "execute_result"
    }
   ],
   "source": [
    "ZIP_FILE"
   ]
  },
  {
   "cell_type": "code",
   "execution_count": 27,
   "id": "379b3bac",
   "metadata": {},
   "outputs": [
    {
     "name": "stdout",
     "output_type": "stream",
     "text": [
      "Data/Wk19Lect02/Portugese/Student_Performance-por_age-15.csv\n"
     ]
    },
    {
     "data": {
      "text/plain": [
       "('Data/Wk19Lect02/Portugese', 'Student_Performance-por_age-15.csv')"
      ]
     },
     "execution_count": 27,
     "metadata": {},
     "output_type": "execute_result"
    }
   ],
   "source": [
    "test = exported_files[0]\n",
    "print(test)\n",
    "os.path.split(test)"
   ]
  },
  {
   "cell_type": "code",
   "execution_count": 29,
   "id": "60edff84",
   "metadata": {},
   "outputs": [
    {
     "data": {
      "text/plain": [
       "PosixPath('Data/Wk19Lect02/Portugese')"
      ]
     },
     "execution_count": 29,
     "metadata": {},
     "output_type": "execute_result"
    }
   ],
   "source": [
    "## testing getting relative path for zipfile\n",
    "test_path = Path(test)\n",
    "test_path.parent"
   ]
  },
  {
   "cell_type": "code",
   "execution_count": 30,
   "id": "a80a098c",
   "metadata": {},
   "outputs": [
    {
     "data": {
      "text/plain": [
       "PosixPath('Portugese/Student_Performance-por_age-15.csv')"
      ]
     },
     "execution_count": 30,
     "metadata": {},
     "output_type": "execute_result"
    }
   ],
   "source": [
    "test_path.relative_to(OUTPUT_FOLDER)"
   ]
  },
  {
   "cell_type": "code",
   "execution_count": 31,
   "id": "9601fc27",
   "metadata": {},
   "outputs": [
    {
     "data": {
      "text/plain": [
       "PosixPath('/Users/codingdojo/Documents/GitHub/_CURRICULUM/_DATA_VIZ/data-viz-codealong-planning/Data/Wk19Lect02/Portugese/Student_Performance-por_age-15.csv')"
      ]
     },
     "execution_count": 31,
     "metadata": {},
     "output_type": "execute_result"
    }
   ],
   "source": [
    "test_path_abs = Path(os.path.abspath(test))\n",
    "test_path_abs"
   ]
  },
  {
   "cell_type": "code",
   "execution_count": 32,
   "id": "1432c4a5",
   "metadata": {},
   "outputs": [
    {
     "data": {
      "text/plain": [
       "PosixPath('/Users/codingdojo/Documents/GitHub/_CURRICULUM/_DATA_VIZ/data-viz-codealong-planning/Data/Wk19Lect02/Portugese')"
      ]
     },
     "execution_count": 32,
     "metadata": {},
     "output_type": "execute_result"
    }
   ],
   "source": [
    "test_path_abs.parent"
   ]
  },
  {
   "cell_type": "code",
   "execution_count": 34,
   "id": "5ba10732",
   "metadata": {},
   "outputs": [],
   "source": [
    "# test_path_abs.relative_to(OUTPUT_FOLDER)"
   ]
  },
  {
   "cell_type": "code",
   "execution_count": 35,
   "id": "bb748af5",
   "metadata": {},
   "outputs": [],
   "source": [
    "import zipfile\n",
    "# final_fname = 'ExamData/Data Viz Belt Exam - OptionA.zip'\n",
    "with zipfile.ZipFile(ZIP_FILE,'w', \n",
    "            compression=zipfile.ZIP_DEFLATED, compresslevel=9,) as zf:\n",
    "    for file in exported_files:\n",
    "        \n",
    "#         abspath = os.path.abspath(file)\n",
    "#         zf.write(abspath, os.path.basename(abspath))\n",
    "        path = Path(file)\n",
    "        zf.write(path, path.relative_to(OUTPUT_FOLDER))"
   ]
  },
  {
   "cell_type": "code",
   "execution_count": 36,
   "id": "6934b7be",
   "metadata": {},
   "outputs": [
    {
     "data": {
      "text/plain": [
       "True"
      ]
     },
     "execution_count": 36,
     "metadata": {},
     "output_type": "execute_result"
    }
   ],
   "source": [
    "import webbrowser\n",
    "webbrowser.open(\"https://drive.google.com/drive/u/0/folders/1V8TrA3bPLWf-Z5LJU8G9CiOPnWc6Xtbm\")"
   ]
  },
  {
   "cell_type": "code",
   "execution_count": null,
   "id": "b56ee0e6",
   "metadata": {},
   "outputs": [],
   "source": []
  }
 ],
 "metadata": {
  "kernelspec": {
   "display_name": "Python (dojo-env)",
   "language": "python",
   "name": "dojo-env"
  },
  "language_info": {
   "codemirror_mode": {
    "name": "ipython",
    "version": 3
   },
   "file_extension": ".py",
   "mimetype": "text/x-python",
   "name": "python",
   "nbconvert_exporter": "python",
   "pygments_lexer": "ipython3",
   "version": "3.9.15"
  },
  "toc": {
   "base_numbering": 1,
   "nav_menu": {},
   "number_sections": false,
   "sideBar": true,
   "skip_h1_title": false,
   "title_cell": "Table of Contents",
   "title_sidebar": "Contents",
   "toc_cell": false,
   "toc_position": {},
   "toc_section_display": true,
   "toc_window_display": false
  }
 },
 "nbformat": 4,
 "nbformat_minor": 5
}
